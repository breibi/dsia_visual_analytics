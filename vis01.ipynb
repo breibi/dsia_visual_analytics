{
 "nbformat": 4,
 "nbformat_minor": 2,
 "metadata": {
  "language_info": {
   "name": "python",
   "codemirror_mode": {
    "name": "ipython",
    "version": 3
   },
   "version": "3.7.3-final"
  },
  "orig_nbformat": 2,
  "file_extension": ".py",
  "mimetype": "text/x-python",
  "name": "python",
  "npconvert_exporter": "python",
  "pygments_lexer": "ipython3",
  "version": 3,
  "kernelspec": {
   "name": "python37332bitc63c738edb2840589b92590bea4e3d90",
   "display_name": "Python 3.7.3 32-bit"
  }
 },
 "cells": [
  {
   "cell_type": "markdown",
   "execution_count": null,
   "metadata": {},
   "outputs": [],
   "source": [
    "# Part 1: Analyze File Structure"
   ]
  },
  {
   "cell_type": "code",
   "execution_count": 23,
   "metadata": {},
   "outputs": [],
   "source": [
    "import pandas as pd\n",
    "import os\n",
    "import gzip\n",
    "import shutil\n",
    "import warnings\n",
    "\n",
    "warnings.filterwarnings('ignore')\n",
    "pd.options.display.max_columns = None"
   ]
  },
  {
   "cell_type": "markdown",
   "execution_count": null,
   "metadata": {},
   "outputs": [],
   "source": [
    "## Number and Size of Files\n",
    "\n",
    "First, we read the data directory from a config file: "
   ]
  },
  {
   "cell_type": "code",
   "execution_count": 24,
   "metadata": {},
   "outputs": [],
   "source": [
    "with open('config') as f:\n",
    "    path = f.readline()"
   ]
  },
  {
   "cell_type": "markdown",
   "execution_count": null,
   "metadata": {},
   "outputs": [],
   "source": [
    "display files and sizes:"
   ]
  },
  {
   "cell_type": "code",
   "execution_count": 25,
   "metadata": {},
   "outputs": [
    {
     "data": {
      "text/html": "<div>\n<style scoped>\n    .dataframe tbody tr th:only-of-type {\n        vertical-align: middle;\n    }\n\n    .dataframe tbody tr th {\n        vertical-align: top;\n    }\n\n    .dataframe thead th {\n        text-align: right;\n    }\n</style>\n<table border=\"1\" class=\"dataframe\">\n  <thead>\n    <tr style=\"text-align: right;\">\n      <th></th>\n      <th>filename</th>\n      <th>size [KB]</th>\n    </tr>\n  </thead>\n  <tbody>\n    <tr>\n      <th>0</th>\n      <td>SAS-Full-Raw-Data-Export-SCO-2015-generic-28060-2019_08_13_16_39_17.100.csv.gz</td>\n      <td>97671</td>\n    </tr>\n    <tr>\n      <th>1</th>\n      <td>SAS-Full-Raw-Data-Export-SCO-2015-generic-28060-2019_08_13_16_39_17.10.csv.gz</td>\n      <td>97677</td>\n    </tr>\n    <tr>\n      <th>2</th>\n      <td>SAS-Full-Raw-Data-Export-SCO-2015-generic-28060-2019_08_13_16_39_17.101.csv.gz</td>\n      <td>97681</td>\n    </tr>\n    <tr>\n      <th>3</th>\n      <td>SAS-Full-Raw-Data-Export-SCO-2015-generic-28060-2019_08_13_16_39_17.102.csv.gz</td>\n      <td>97670</td>\n    </tr>\n    <tr>\n      <th>4</th>\n      <td>SAS-Full-Raw-Data-Export-SCO-2015-generic-28060-2019_08_13_16_39_17.103.csv.gz</td>\n      <td>97678</td>\n    </tr>\n  </tbody>\n</table>\n</div>",
      "text/plain": "                                                                         filename  \\\n0  SAS-Full-Raw-Data-Export-SCO-2015-generic-28060-2019_08_13_16_39_17.100.csv.gz   \n1  SAS-Full-Raw-Data-Export-SCO-2015-generic-28060-2019_08_13_16_39_17.10.csv.gz    \n2  SAS-Full-Raw-Data-Export-SCO-2015-generic-28060-2019_08_13_16_39_17.101.csv.gz   \n3  SAS-Full-Raw-Data-Export-SCO-2015-generic-28060-2019_08_13_16_39_17.102.csv.gz   \n4  SAS-Full-Raw-Data-Export-SCO-2015-generic-28060-2019_08_13_16_39_17.103.csv.gz   \n\n   size [KB]  \n0  97671      \n1  97677      \n2  97681      \n3  97670      \n4  97678      "
     },
     "execution_count": 25,
     "metadata": {},
     "output_type": "execute_result"
    }
   ],
   "source": [
    "pd.set_option('display.max_colwidth', -1)\n",
    "files = pd.DataFrame()\n",
    "for filename in os.listdir(path):\n",
    "    full_path = os.path.join(path, filename)\n",
    "    files =pd.concat([files, pd.DataFrame([[filename, round(os.path.getsize(full_path)/1024)]])], ignore_index=True)\n",
    "\n",
    "files.columns = ['filename', 'size [KB]']\n",
    "files.head()"
   ]
  },
  {
   "cell_type": "code",
   "execution_count": 26,
   "metadata": {},
   "outputs": [
    {
     "name": "stdout",
     "output_type": "stream",
     "text": "Number of Files: 237\nTotal Size: 22416 MB\n"
    }
   ],
   "source": [
    "print(\"Number of Files: {}\".format(len(files)))\n",
    "print(\"Total Size: {} MB\".format(int(files['size [KB]'].sum()/1024)))"
   ]
  },
  {
   "cell_type": "markdown",
   "execution_count": null,
   "metadata": {},
   "outputs": [],
   "source": [
    "## Analyze the structure\n",
    "- we choose a sample file (nr 230 in the list)\n",
    "- unzip it to a temporary file\n",
    "- read the first chunk of 10000 entries\n"
   ]
  },
  {
   "cell_type": "code",
   "execution_count": 28,
   "metadata": {},
   "outputs": [],
   "source": [
    "tmp_file = '.\\\\data\\\\tmp.csv'\n",
    "sample_filename = os.listdir(path)[230]\n",
    "\n",
    "# unzip to tmp_file\n",
    "with gzip.open(os.path.join(path,sample_filename)) as f_in:\n",
    "    with open(tmp_file, 'wb') as f_out:\n",
    "                shutil.copyfileobj(f_in, f_out)\n",
    "\n",
    "reader = pd.read_csv(tmp_file, sep=';', chunksize=10000)\n",
    "chunk = next(reader)"
   ]
  },
  {
   "cell_type": "markdown",
   "execution_count": null,
   "metadata": {},
   "outputs": [],
   "source": [
    "## column names"
   ]
  },
  {
   "cell_type": "code",
   "execution_count": 29,
   "metadata": {},
   "outputs": [
    {
     "name": "stdout",
     "output_type": "stream",
     "text": "user.Id\nuser.Email\nuser.MobileNumber\nuser.FaxNumber\nuser.Identifier\nsentToMTA.Timestamp\nsentToMTA.ExternalTransactionId\nsentToMTA.SendoutChannel\nskip.Timestamp\nskip.Category\nskip.ExternalTransactionId\nbounce.Timestamp\nbounce.Category\nfeedback.Timestamp\nfeedback.Category\nrender.Timestamp\nrender.GeoLocation.ISOCountryCode\nrender.GeoLocation.RegionCode\nrender.GeoLocation.City\nrender.GeoLocation.Latitude\nrender.GeoLocation.Longitude\nrender.UserAgent.Platform\nrender.UserAgent.OperatingSystemName\nrender.UserAgent.OperatingSystemVersion\nrender.UserAgent.ClientName\nrender.UserAgent.ClientVersion\nrender.UserAgent.RawString\nclick.Timestamp\nclick.Link.Id\nclick.Link.Category.Id\nclick.Link.Category.Name\nclick.Link.Url\nclick.Link.SystemLinkType\nclick.Link.Type\nclick.GeoLocation.ISOCountryCode\nclick.GeoLocation.RegionCode\nclick.GeoLocation.City\nclick.GeoLocation.Latitude\nclick.GeoLocation.Longitude\nclick.UserAgent.Platform\nclick.UserAgent.OperatingSystem\nclick.UserAgent.OperatingSystemVersion\nclick.UserAgent.ClientName\nclick.UserAgent.ClientVersion\nclick.UserAgent.RawString\nunsubscribe.Timestamp\nforward.Timestamp\nconversion.cp.Timestamp\nconversion.cp.Id\nconversion.cp.Name\nconversion.cp.OrderId\nconversion.cp.ItemCount\nconversion.cp.Amount\nconversion.cp.RequestParameters\ngroup.Id\ngroup.Name\ngroup.Email\ngroup.Category.Id\ngroup.Category.Name\nmessage.Id\nmessage.Name\nmessage.Category.Id\nmessage.Category.Name\nmessage.Subject.Unresolved\nmessage.ExternalId\nmessage.Type\nmessage.variation.Id\nselection.Id\nselection.Name\nrecord.Timestamp\nrecord.Type\nrecord.sentToMTA.Timestamp\nrecord.ExternalTransactionId\nsendout.Type\nsendout.AddresseeRole\nsendout.RecipientType\nuser.DateOfBirth\nuser.FirstName\nuser.ISOCountryCode\nuser.ISOLanguageCode\nuser.LastName\nuser.Nickname\nuser.PartnerId\nuser.Source\nuser.TimeZone\nuser.Title\nuser.ZipCode\nuser.CustomAttribute['BeSCity']\nuser.CustomAttribute['BeSHome']\nuser.CustomAttribute['BeSHome2']\nuser.CustomAttribute['BeSHome3']\nuser.CustomAttribute['BeSStreet']\nuser.CustomAttribute['BesZip']\nuser.CustomAttribute['BIC']\nuser.CustomAttribute['City']\nuser.CustomAttribute['Coupon']\nuser.CustomAttribute['Coupon02']\nuser.CustomAttribute['IBAN']\nuser.CustomAttribute['Last_Open_Any_Newsletter_Date']\nuser.CustomAttribute['PartnerID']\nuser.CustomAttribute['ProductID']\nuser.CustomAttribute['SalesOrganization']\nuser.CustomAttribute['SCSMembernumber']\nuser.CustomAttribute['SCS_Boutique']\nuser.CustomAttribute['SCS_Boutique_City']\nuser.CustomAttribute['SCS_Boutique_Name1']\nuser.CustomAttribute['SCS_Boutique_Name2']\nuser.CustomAttribute['SCS_Boutique_Street']\nuser.CustomAttribute['SCS_Due_Date']\nuser.CustomAttribute['SCS_Entry_Date']\nuser.CustomAttribute['SCS_Expiry_Dat']\nuser.CustomAttribute['SCS_Magazine_Language_ISO']\nuser.CustomAttribute['SSFCardNumber']\nuser.CustomAttribute['Street']\nuser.CustomAttribute['Street2']\nuser.CustomAttribute['Street3']\nuser.CustomAttribute['Telephone']\nuser.CustomAttribute['TitleKey']\n"
    }
   ],
   "source": [
    "for c in chunk.columns:\n",
    "    print(c)"
   ]
  },
  {
   "cell_type": "markdown",
   "execution_count": null,
   "metadata": {},
   "outputs": [],
   "source": [
    "## some entries..."
   ]
  },
  {
   "cell_type": "code",
   "execution_count": 4,
   "metadata": {},
   "outputs": [
    {
     "data": {
      "text/html": "<div>\n<style scoped>\n    .dataframe tbody tr th:only-of-type {\n        vertical-align: middle;\n    }\n\n    .dataframe tbody tr th {\n        vertical-align: top;\n    }\n\n    .dataframe thead th {\n        text-align: right;\n    }\n</style>\n<table border=\"1\" class=\"dataframe\">\n  <thead>\n    <tr style=\"text-align: right;\">\n      <th></th>\n      <th>user.Id</th>\n      <th>user.MobileNumber</th>\n      <th>user.FaxNumber</th>\n      <th>user.Identifier</th>\n      <th>sentToMTA.Timestamp</th>\n      <th>sentToMTA.ExternalTransactionId</th>\n      <th>sentToMTA.SendoutChannel</th>\n      <th>skip.Timestamp</th>\n      <th>skip.Category</th>\n      <th>skip.ExternalTransactionId</th>\n      <th>bounce.Timestamp</th>\n      <th>bounce.Category</th>\n      <th>feedback.Timestamp</th>\n      <th>feedback.Category</th>\n      <th>render.Timestamp</th>\n      <th>render.GeoLocation.ISOCountryCode</th>\n      <th>render.GeoLocation.RegionCode</th>\n      <th>render.GeoLocation.City</th>\n      <th>render.GeoLocation.Latitude</th>\n      <th>render.GeoLocation.Longitude</th>\n      <th>render.UserAgent.Platform</th>\n      <th>render.UserAgent.OperatingSystemName</th>\n      <th>render.UserAgent.OperatingSystemVersion</th>\n      <th>render.UserAgent.ClientName</th>\n      <th>render.UserAgent.ClientVersion</th>\n      <th>render.UserAgent.RawString</th>\n      <th>click.Timestamp</th>\n      <th>click.Link.Id</th>\n      <th>click.Link.Category.Id</th>\n      <th>click.Link.Category.Name</th>\n      <th>click.Link.Url</th>\n      <th>click.Link.SystemLinkType</th>\n      <th>click.Link.Type</th>\n      <th>click.GeoLocation.ISOCountryCode</th>\n      <th>click.GeoLocation.RegionCode</th>\n      <th>click.GeoLocation.City</th>\n      <th>click.GeoLocation.Latitude</th>\n      <th>click.GeoLocation.Longitude</th>\n      <th>click.UserAgent.Platform</th>\n      <th>click.UserAgent.OperatingSystem</th>\n      <th>click.UserAgent.OperatingSystemVersion</th>\n      <th>click.UserAgent.ClientName</th>\n      <th>click.UserAgent.ClientVersion</th>\n      <th>click.UserAgent.RawString</th>\n      <th>unsubscribe.Timestamp</th>\n      <th>forward.Timestamp</th>\n      <th>conversion.cp.Timestamp</th>\n      <th>conversion.cp.Id</th>\n      <th>conversion.cp.Name</th>\n      <th>conversion.cp.OrderId</th>\n      <th>conversion.cp.ItemCount</th>\n      <th>conversion.cp.Amount</th>\n      <th>conversion.cp.RequestParameters</th>\n      <th>group.Id</th>\n      <th>group.Name</th>\n      <th>group.Email</th>\n      <th>group.Category.Id</th>\n      <th>group.Category.Name</th>\n      <th>message.Id</th>\n      <th>message.Name</th>\n      <th>message.Category.Id</th>\n      <th>message.Category.Name</th>\n      <th>message.Subject.Unresolved</th>\n      <th>message.ExternalId</th>\n      <th>message.Type</th>\n      <th>message.variation.Id</th>\n      <th>selection.Id</th>\n      <th>selection.Name</th>\n      <th>record.Timestamp</th>\n      <th>record.Type</th>\n      <th>record.sentToMTA.Timestamp</th>\n      <th>record.ExternalTransactionId</th>\n      <th>sendout.Type</th>\n      <th>sendout.AddresseeRole</th>\n      <th>sendout.RecipientType</th>\n      <th>user.DateOfBirth</th>\n      <th>user.FirstName</th>\n      <th>user.ISOCountryCode</th>\n      <th>user.ISOLanguageCode</th>\n      <th>user.LastName</th>\n      <th>user.Nickname</th>\n      <th>user.PartnerId</th>\n      <th>user.Source</th>\n      <th>user.TimeZone</th>\n      <th>user.Title</th>\n      <th>user.ZipCode</th>\n      <th>user.CustomAttribute['BeSCity']</th>\n      <th>user.CustomAttribute['BeSHome']</th>\n      <th>user.CustomAttribute['BeSHome2']</th>\n      <th>user.CustomAttribute['BeSHome3']</th>\n      <th>user.CustomAttribute['BeSStreet']</th>\n      <th>user.CustomAttribute['BesZip']</th>\n      <th>user.CustomAttribute['BIC']</th>\n      <th>user.CustomAttribute['City']</th>\n      <th>user.CustomAttribute['Coupon']</th>\n      <th>user.CustomAttribute['Coupon02']</th>\n      <th>user.CustomAttribute['IBAN']</th>\n      <th>user.CustomAttribute['Last_Open_Any_Newsletter_Date']</th>\n      <th>user.CustomAttribute['PartnerID']</th>\n      <th>user.CustomAttribute['ProductID']</th>\n      <th>user.CustomAttribute['SalesOrganization']</th>\n      <th>user.CustomAttribute['SCSMembernumber']</th>\n      <th>user.CustomAttribute['SCS_Boutique']</th>\n      <th>user.CustomAttribute['SCS_Boutique_City']</th>\n      <th>user.CustomAttribute['SCS_Boutique_Name1']</th>\n      <th>user.CustomAttribute['SCS_Boutique_Name2']</th>\n      <th>user.CustomAttribute['SCS_Boutique_Street']</th>\n      <th>user.CustomAttribute['SCS_Due_Date']</th>\n      <th>user.CustomAttribute['SCS_Entry_Date']</th>\n      <th>user.CustomAttribute['SCS_Expiry_Dat']</th>\n      <th>user.CustomAttribute['SCS_Magazine_Language_ISO']</th>\n      <th>user.CustomAttribute['SSFCardNumber']</th>\n      <th>user.CustomAttribute['Street']</th>\n      <th>user.CustomAttribute['Street2']</th>\n      <th>user.CustomAttribute['Street3']</th>\n      <th>user.CustomAttribute['Telephone']</th>\n      <th>user.CustomAttribute['TitleKey']</th>\n    </tr>\n  </thead>\n  <tbody>\n    <tr>\n      <th>0</th>\n      <td>950228553</td>\n      <td>NaN</td>\n      <td>NaN</td>\n      <td>NaN</td>\n      <td>NaN</td>\n      <td>NaN</td>\n      <td>NaN</td>\n      <td>2015-07-09T08:30:26Z</td>\n      <td>SYS_BOUNCED</td>\n      <td>NaN</td>\n      <td>NaN</td>\n      <td>NaN</td>\n      <td>NaN</td>\n      <td>NaN</td>\n      <td>NaN</td>\n      <td>NaN</td>\n      <td>NaN</td>\n      <td>NaN</td>\n      <td>NaN</td>\n      <td>NaN</td>\n      <td>NaN</td>\n      <td>NaN</td>\n      <td>NaN</td>\n      <td>NaN</td>\n      <td>NaN</td>\n      <td>NaN</td>\n      <td>NaN</td>\n      <td>NaN</td>\n      <td>NaN</td>\n      <td>NaN</td>\n      <td>NaN</td>\n      <td>NaN</td>\n      <td>NaN</td>\n      <td>NaN</td>\n      <td>NaN</td>\n      <td>NaN</td>\n      <td>NaN</td>\n      <td>NaN</td>\n      <td>NaN</td>\n      <td>NaN</td>\n      <td>NaN</td>\n      <td>NaN</td>\n      <td>NaN</td>\n      <td>NaN</td>\n      <td>NaN</td>\n      <td>NaN</td>\n      <td>NaN</td>\n      <td>NaN</td>\n      <td>NaN</td>\n      <td>NaN</td>\n      <td>NaN</td>\n      <td>NaN</td>\n      <td>NaN</td>\n      <td>NaN</td>\n      <td>NaN</td>\n      <td>NaN</td>\n      <td>NaN</td>\n      <td>NaN</td>\n      <td>902435427</td>\n      <td>NaN</td>\n      <td>NaN</td>\n      <td>NaN</td>\n      <td>NaN</td>\n      <td>NaN</td>\n      <td>NaN</td>\n      <td>NaN</td>\n      <td>NaN</td>\n      <td>NaN</td>\n      <td>2015-07-09T08:30:26Z</td>\n      <td>Skip</td>\n      <td>NaN</td>\n      <td>NaN</td>\n      <td>NaN</td>\n      <td>NaN</td>\n      <td>NaN</td>\n      <td>NaN</td>\n      <td>alessandro</td>\n      <td>IT</td>\n      <td>it</td>\n      <td>NaN</td>\n      <td>NaN</td>\n      <td>NaN</td>\n      <td>i</td>\n      <td>NaN</td>\n      <td>NaN</td>\n      <td>NaN</td>\n      <td>NaN</td>\n      <td>NaN</td>\n      <td>NaN</td>\n      <td>NaN</td>\n      <td>NaN</td>\n      <td>NaN</td>\n      <td>NaN</td>\n      <td>NaN</td>\n      <td>NaN</td>\n      <td>NaN</td>\n      <td>NaN</td>\n      <td>NaN</td>\n      <td>L000926771</td>\n      <td>NaN</td>\n      <td>NaN</td>\n      <td>NaN</td>\n      <td>NaN</td>\n      <td>NaN</td>\n      <td>NaN</td>\n      <td>NaN</td>\n      <td>NaN</td>\n      <td>NaN</td>\n      <td>NaN</td>\n      <td>NaN</td>\n      <td>NaN</td>\n      <td>NaN</td>\n      <td>NaN</td>\n      <td>NaN</td>\n      <td>NaN</td>\n      <td>NaN</td>\n      <td>NaN</td>\n    </tr>\n    <tr>\n      <th>1</th>\n      <td>950228553</td>\n      <td>NaN</td>\n      <td>NaN</td>\n      <td>NaN</td>\n      <td>NaN</td>\n      <td>NaN</td>\n      <td>NaN</td>\n      <td>2015-07-06T11:48:44Z</td>\n      <td>SYS_BOUNCED</td>\n      <td>NaN</td>\n      <td>NaN</td>\n      <td>NaN</td>\n      <td>NaN</td>\n      <td>NaN</td>\n      <td>NaN</td>\n      <td>NaN</td>\n      <td>NaN</td>\n      <td>NaN</td>\n      <td>NaN</td>\n      <td>NaN</td>\n      <td>NaN</td>\n      <td>NaN</td>\n      <td>NaN</td>\n      <td>NaN</td>\n      <td>NaN</td>\n      <td>NaN</td>\n      <td>NaN</td>\n      <td>NaN</td>\n      <td>NaN</td>\n      <td>NaN</td>\n      <td>NaN</td>\n      <td>NaN</td>\n      <td>NaN</td>\n      <td>NaN</td>\n      <td>NaN</td>\n      <td>NaN</td>\n      <td>NaN</td>\n      <td>NaN</td>\n      <td>NaN</td>\n      <td>NaN</td>\n      <td>NaN</td>\n      <td>NaN</td>\n      <td>NaN</td>\n      <td>NaN</td>\n      <td>NaN</td>\n      <td>NaN</td>\n      <td>NaN</td>\n      <td>NaN</td>\n      <td>NaN</td>\n      <td>NaN</td>\n      <td>NaN</td>\n      <td>NaN</td>\n      <td>NaN</td>\n      <td>NaN</td>\n      <td>NaN</td>\n      <td>NaN</td>\n      <td>NaN</td>\n      <td>NaN</td>\n      <td>902435087</td>\n      <td>NaN</td>\n      <td>NaN</td>\n      <td>NaN</td>\n      <td>NaN</td>\n      <td>NaN</td>\n      <td>NaN</td>\n      <td>NaN</td>\n      <td>903153389.0</td>\n      <td>150706_IT_resend_Sale_SS15_Start</td>\n      <td>2015-07-06T11:48:44Z</td>\n      <td>Skip</td>\n      <td>NaN</td>\n      <td>NaN</td>\n      <td>NaN</td>\n      <td>NaN</td>\n      <td>NaN</td>\n      <td>NaN</td>\n      <td>alessandro</td>\n      <td>IT</td>\n      <td>it</td>\n      <td>NaN</td>\n      <td>NaN</td>\n      <td>NaN</td>\n      <td>i</td>\n      <td>NaN</td>\n      <td>NaN</td>\n      <td>NaN</td>\n      <td>NaN</td>\n      <td>NaN</td>\n      <td>NaN</td>\n      <td>NaN</td>\n      <td>NaN</td>\n      <td>NaN</td>\n      <td>NaN</td>\n      <td>NaN</td>\n      <td>NaN</td>\n      <td>NaN</td>\n      <td>NaN</td>\n      <td>NaN</td>\n      <td>L000926771</td>\n      <td>NaN</td>\n      <td>NaN</td>\n      <td>NaN</td>\n      <td>NaN</td>\n      <td>NaN</td>\n      <td>NaN</td>\n      <td>NaN</td>\n      <td>NaN</td>\n      <td>NaN</td>\n      <td>NaN</td>\n      <td>NaN</td>\n      <td>NaN</td>\n      <td>NaN</td>\n      <td>NaN</td>\n      <td>NaN</td>\n      <td>NaN</td>\n      <td>NaN</td>\n      <td>NaN</td>\n    </tr>\n    <tr>\n      <th>2</th>\n      <td>950228553</td>\n      <td>NaN</td>\n      <td>NaN</td>\n      <td>NaN</td>\n      <td>NaN</td>\n      <td>NaN</td>\n      <td>NaN</td>\n      <td>2015-07-05T08:30:18Z</td>\n      <td>SYS_BOUNCED</td>\n      <td>NaN</td>\n      <td>NaN</td>\n      <td>NaN</td>\n      <td>NaN</td>\n      <td>NaN</td>\n      <td>NaN</td>\n      <td>NaN</td>\n      <td>NaN</td>\n      <td>NaN</td>\n      <td>NaN</td>\n      <td>NaN</td>\n      <td>NaN</td>\n      <td>NaN</td>\n      <td>NaN</td>\n      <td>NaN</td>\n      <td>NaN</td>\n      <td>NaN</td>\n      <td>NaN</td>\n      <td>NaN</td>\n      <td>NaN</td>\n      <td>NaN</td>\n      <td>NaN</td>\n      <td>NaN</td>\n      <td>NaN</td>\n      <td>NaN</td>\n      <td>NaN</td>\n      <td>NaN</td>\n      <td>NaN</td>\n      <td>NaN</td>\n      <td>NaN</td>\n      <td>NaN</td>\n      <td>NaN</td>\n      <td>NaN</td>\n      <td>NaN</td>\n      <td>NaN</td>\n      <td>NaN</td>\n      <td>NaN</td>\n      <td>NaN</td>\n      <td>NaN</td>\n      <td>NaN</td>\n      <td>NaN</td>\n      <td>NaN</td>\n      <td>NaN</td>\n      <td>NaN</td>\n      <td>NaN</td>\n      <td>NaN</td>\n      <td>NaN</td>\n      <td>NaN</td>\n      <td>NaN</td>\n      <td>902432292</td>\n      <td>NaN</td>\n      <td>NaN</td>\n      <td>NaN</td>\n      <td>NaN</td>\n      <td>NaN</td>\n      <td>NaN</td>\n      <td>NaN</td>\n      <td>NaN</td>\n      <td>NaN</td>\n      <td>2015-07-05T08:30:18Z</td>\n      <td>Skip</td>\n      <td>NaN</td>\n      <td>NaN</td>\n      <td>NaN</td>\n      <td>NaN</td>\n      <td>NaN</td>\n      <td>NaN</td>\n      <td>alessandro</td>\n      <td>IT</td>\n      <td>it</td>\n      <td>NaN</td>\n      <td>NaN</td>\n      <td>NaN</td>\n      <td>i</td>\n      <td>NaN</td>\n      <td>NaN</td>\n      <td>NaN</td>\n      <td>NaN</td>\n      <td>NaN</td>\n      <td>NaN</td>\n      <td>NaN</td>\n      <td>NaN</td>\n      <td>NaN</td>\n      <td>NaN</td>\n      <td>NaN</td>\n      <td>NaN</td>\n      <td>NaN</td>\n      <td>NaN</td>\n      <td>NaN</td>\n      <td>L000926771</td>\n      <td>NaN</td>\n      <td>NaN</td>\n      <td>NaN</td>\n      <td>NaN</td>\n      <td>NaN</td>\n      <td>NaN</td>\n      <td>NaN</td>\n      <td>NaN</td>\n      <td>NaN</td>\n      <td>NaN</td>\n      <td>NaN</td>\n      <td>NaN</td>\n      <td>NaN</td>\n      <td>NaN</td>\n      <td>NaN</td>\n      <td>NaN</td>\n      <td>NaN</td>\n      <td>NaN</td>\n    </tr>\n    <tr>\n      <th>3</th>\n      <td>950228553</td>\n      <td>NaN</td>\n      <td>NaN</td>\n      <td>NaN</td>\n      <td>NaN</td>\n      <td>NaN</td>\n      <td>NaN</td>\n      <td>2015-07-03T08:30:21Z</td>\n      <td>SYS_BOUNCED</td>\n      <td>NaN</td>\n      <td>NaN</td>\n      <td>NaN</td>\n      <td>NaN</td>\n      <td>NaN</td>\n      <td>NaN</td>\n      <td>NaN</td>\n      <td>NaN</td>\n      <td>NaN</td>\n      <td>NaN</td>\n      <td>NaN</td>\n      <td>NaN</td>\n      <td>NaN</td>\n      <td>NaN</td>\n      <td>NaN</td>\n      <td>NaN</td>\n      <td>NaN</td>\n      <td>NaN</td>\n      <td>NaN</td>\n      <td>NaN</td>\n      <td>NaN</td>\n      <td>NaN</td>\n      <td>NaN</td>\n      <td>NaN</td>\n      <td>NaN</td>\n      <td>NaN</td>\n      <td>NaN</td>\n      <td>NaN</td>\n      <td>NaN</td>\n      <td>NaN</td>\n      <td>NaN</td>\n      <td>NaN</td>\n      <td>NaN</td>\n      <td>NaN</td>\n      <td>NaN</td>\n      <td>NaN</td>\n      <td>NaN</td>\n      <td>NaN</td>\n      <td>NaN</td>\n      <td>NaN</td>\n      <td>NaN</td>\n      <td>NaN</td>\n      <td>NaN</td>\n      <td>NaN</td>\n      <td>NaN</td>\n      <td>NaN</td>\n      <td>NaN</td>\n      <td>NaN</td>\n      <td>NaN</td>\n      <td>902431167</td>\n      <td>NaN</td>\n      <td>NaN</td>\n      <td>NaN</td>\n      <td>NaN</td>\n      <td>NaN</td>\n      <td>NaN</td>\n      <td>NaN</td>\n      <td>NaN</td>\n      <td>NaN</td>\n      <td>2015-07-03T08:30:21Z</td>\n      <td>Skip</td>\n      <td>NaN</td>\n      <td>NaN</td>\n      <td>NaN</td>\n      <td>NaN</td>\n      <td>NaN</td>\n      <td>NaN</td>\n      <td>alessandro</td>\n      <td>IT</td>\n      <td>it</td>\n      <td>NaN</td>\n      <td>NaN</td>\n      <td>NaN</td>\n      <td>i</td>\n      <td>NaN</td>\n      <td>NaN</td>\n      <td>NaN</td>\n      <td>NaN</td>\n      <td>NaN</td>\n      <td>NaN</td>\n      <td>NaN</td>\n      <td>NaN</td>\n      <td>NaN</td>\n      <td>NaN</td>\n      <td>NaN</td>\n      <td>NaN</td>\n      <td>NaN</td>\n      <td>NaN</td>\n      <td>NaN</td>\n      <td>L000926771</td>\n      <td>NaN</td>\n      <td>NaN</td>\n      <td>NaN</td>\n      <td>NaN</td>\n      <td>NaN</td>\n      <td>NaN</td>\n      <td>NaN</td>\n      <td>NaN</td>\n      <td>NaN</td>\n      <td>NaN</td>\n      <td>NaN</td>\n      <td>NaN</td>\n      <td>NaN</td>\n      <td>NaN</td>\n      <td>NaN</td>\n      <td>NaN</td>\n      <td>NaN</td>\n      <td>NaN</td>\n    </tr>\n    <tr>\n      <th>4</th>\n      <td>950228553</td>\n      <td>NaN</td>\n      <td>NaN</td>\n      <td>NaN</td>\n      <td>NaN</td>\n      <td>NaN</td>\n      <td>NaN</td>\n      <td>2015-06-26T11:30:21Z</td>\n      <td>SYS_BOUNCED</td>\n      <td>NaN</td>\n      <td>NaN</td>\n      <td>NaN</td>\n      <td>NaN</td>\n      <td>NaN</td>\n      <td>NaN</td>\n      <td>NaN</td>\n      <td>NaN</td>\n      <td>NaN</td>\n      <td>NaN</td>\n      <td>NaN</td>\n      <td>NaN</td>\n      <td>NaN</td>\n      <td>NaN</td>\n      <td>NaN</td>\n      <td>NaN</td>\n      <td>NaN</td>\n      <td>NaN</td>\n      <td>NaN</td>\n      <td>NaN</td>\n      <td>NaN</td>\n      <td>NaN</td>\n      <td>NaN</td>\n      <td>NaN</td>\n      <td>NaN</td>\n      <td>NaN</td>\n      <td>NaN</td>\n      <td>NaN</td>\n      <td>NaN</td>\n      <td>NaN</td>\n      <td>NaN</td>\n      <td>NaN</td>\n      <td>NaN</td>\n      <td>NaN</td>\n      <td>NaN</td>\n      <td>NaN</td>\n      <td>NaN</td>\n      <td>NaN</td>\n      <td>NaN</td>\n      <td>NaN</td>\n      <td>NaN</td>\n      <td>NaN</td>\n      <td>NaN</td>\n      <td>NaN</td>\n      <td>NaN</td>\n      <td>NaN</td>\n      <td>NaN</td>\n      <td>NaN</td>\n      <td>NaN</td>\n      <td>902425348</td>\n      <td>NaN</td>\n      <td>NaN</td>\n      <td>NaN</td>\n      <td>NaN</td>\n      <td>NaN</td>\n      <td>NaN</td>\n      <td>NaN</td>\n      <td>NaN</td>\n      <td>NaN</td>\n      <td>2015-06-26T11:30:21Z</td>\n      <td>Skip</td>\n      <td>NaN</td>\n      <td>NaN</td>\n      <td>NaN</td>\n      <td>NaN</td>\n      <td>NaN</td>\n      <td>NaN</td>\n      <td>alessandro</td>\n      <td>IT</td>\n      <td>it</td>\n      <td>NaN</td>\n      <td>NaN</td>\n      <td>NaN</td>\n      <td>i</td>\n      <td>NaN</td>\n      <td>NaN</td>\n      <td>NaN</td>\n      <td>NaN</td>\n      <td>NaN</td>\n      <td>NaN</td>\n      <td>NaN</td>\n      <td>NaN</td>\n      <td>NaN</td>\n      <td>NaN</td>\n      <td>NaN</td>\n      <td>NaN</td>\n      <td>NaN</td>\n      <td>NaN</td>\n      <td>NaN</td>\n      <td>L000926771</td>\n      <td>NaN</td>\n      <td>NaN</td>\n      <td>NaN</td>\n      <td>NaN</td>\n      <td>NaN</td>\n      <td>NaN</td>\n      <td>NaN</td>\n      <td>NaN</td>\n      <td>NaN</td>\n      <td>NaN</td>\n      <td>NaN</td>\n      <td>NaN</td>\n      <td>NaN</td>\n      <td>NaN</td>\n      <td>NaN</td>\n      <td>NaN</td>\n      <td>NaN</td>\n      <td>NaN</td>\n    </tr>\n  </tbody>\n</table>\n</div>",
      "text/plain": "     user.Id  user.MobileNumber  user.FaxNumber user.Identifier  \\\n0  950228553                NaN             NaN             NaN   \n1  950228553                NaN             NaN             NaN   \n2  950228553                NaN             NaN             NaN   \n3  950228553                NaN             NaN             NaN   \n4  950228553                NaN             NaN             NaN   \n\n  sentToMTA.Timestamp  sentToMTA.ExternalTransactionId  \\\n0                 NaN                              NaN   \n1                 NaN                              NaN   \n2                 NaN                              NaN   \n3                 NaN                              NaN   \n4                 NaN                              NaN   \n\n  sentToMTA.SendoutChannel        skip.Timestamp skip.Category  \\\n0                      NaN  2015-07-09T08:30:26Z   SYS_BOUNCED   \n1                      NaN  2015-07-06T11:48:44Z   SYS_BOUNCED   \n2                      NaN  2015-07-05T08:30:18Z   SYS_BOUNCED   \n3                      NaN  2015-07-03T08:30:21Z   SYS_BOUNCED   \n4                      NaN  2015-06-26T11:30:21Z   SYS_BOUNCED   \n\n   skip.ExternalTransactionId  bounce.Timestamp  bounce.Category  \\\n0                         NaN               NaN              NaN   \n1                         NaN               NaN              NaN   \n2                         NaN               NaN              NaN   \n3                         NaN               NaN              NaN   \n4                         NaN               NaN              NaN   \n\n   feedback.Timestamp  feedback.Category render.Timestamp  \\\n0                 NaN                NaN              NaN   \n1                 NaN                NaN              NaN   \n2                 NaN                NaN              NaN   \n3                 NaN                NaN              NaN   \n4                 NaN                NaN              NaN   \n\n  render.GeoLocation.ISOCountryCode render.GeoLocation.RegionCode  \\\n0                               NaN                           NaN   \n1                               NaN                           NaN   \n2                               NaN                           NaN   \n3                               NaN                           NaN   \n4                               NaN                           NaN   \n\n  render.GeoLocation.City  render.GeoLocation.Latitude  \\\n0                     NaN                          NaN   \n1                     NaN                          NaN   \n2                     NaN                          NaN   \n3                     NaN                          NaN   \n4                     NaN                          NaN   \n\n   render.GeoLocation.Longitude render.UserAgent.Platform  \\\n0                           NaN                       NaN   \n1                           NaN                       NaN   \n2                           NaN                       NaN   \n3                           NaN                       NaN   \n4                           NaN                       NaN   \n\n  render.UserAgent.OperatingSystemName  \\\n0                                  NaN   \n1                                  NaN   \n2                                  NaN   \n3                                  NaN   \n4                                  NaN   \n\n  render.UserAgent.OperatingSystemVersion render.UserAgent.ClientName  \\\n0                                     NaN                         NaN   \n1                                     NaN                         NaN   \n2                                     NaN                         NaN   \n3                                     NaN                         NaN   \n4                                     NaN                         NaN   \n\n  render.UserAgent.ClientVersion render.UserAgent.RawString click.Timestamp  \\\n0                            NaN                        NaN             NaN   \n1                            NaN                        NaN             NaN   \n2                            NaN                        NaN             NaN   \n3                            NaN                        NaN             NaN   \n4                            NaN                        NaN             NaN   \n\n   click.Link.Id  click.Link.Category.Id  click.Link.Category.Name  \\\n0            NaN                     NaN                       NaN   \n1            NaN                     NaN                       NaN   \n2            NaN                     NaN                       NaN   \n3            NaN                     NaN                       NaN   \n4            NaN                     NaN                       NaN   \n\n  click.Link.Url  click.Link.SystemLinkType click.Link.Type  \\\n0            NaN                        NaN             NaN   \n1            NaN                        NaN             NaN   \n2            NaN                        NaN             NaN   \n3            NaN                        NaN             NaN   \n4            NaN                        NaN             NaN   \n\n  click.GeoLocation.ISOCountryCode click.GeoLocation.RegionCode  \\\n0                              NaN                          NaN   \n1                              NaN                          NaN   \n2                              NaN                          NaN   \n3                              NaN                          NaN   \n4                              NaN                          NaN   \n\n  click.GeoLocation.City  click.GeoLocation.Latitude  \\\n0                    NaN                         NaN   \n1                    NaN                         NaN   \n2                    NaN                         NaN   \n3                    NaN                         NaN   \n4                    NaN                         NaN   \n\n   click.GeoLocation.Longitude click.UserAgent.Platform  \\\n0                          NaN                      NaN   \n1                          NaN                      NaN   \n2                          NaN                      NaN   \n3                          NaN                      NaN   \n4                          NaN                      NaN   \n\n  click.UserAgent.OperatingSystem click.UserAgent.OperatingSystemVersion  \\\n0                             NaN                                    NaN   \n1                             NaN                                    NaN   \n2                             NaN                                    NaN   \n3                             NaN                                    NaN   \n4                             NaN                                    NaN   \n\n  click.UserAgent.ClientName click.UserAgent.ClientVersion  \\\n0                        NaN                           NaN   \n1                        NaN                           NaN   \n2                        NaN                           NaN   \n3                        NaN                           NaN   \n4                        NaN                           NaN   \n\n  click.UserAgent.RawString  unsubscribe.Timestamp  forward.Timestamp  \\\n0                       NaN                    NaN                NaN   \n1                       NaN                    NaN                NaN   \n2                       NaN                    NaN                NaN   \n3                       NaN                    NaN                NaN   \n4                       NaN                    NaN                NaN   \n\n   conversion.cp.Timestamp  conversion.cp.Id  conversion.cp.Name  \\\n0                      NaN               NaN                 NaN   \n1                      NaN               NaN                 NaN   \n2                      NaN               NaN                 NaN   \n3                      NaN               NaN                 NaN   \n4                      NaN               NaN                 NaN   \n\n   conversion.cp.OrderId  conversion.cp.ItemCount  conversion.cp.Amount  \\\n0                    NaN                      NaN                   NaN   \n1                    NaN                      NaN                   NaN   \n2                    NaN                      NaN                   NaN   \n3                    NaN                      NaN                   NaN   \n4                    NaN                      NaN                   NaN   \n\n   conversion.cp.RequestParameters  group.Id group.Name group.Email  \\\n0                              NaN       NaN        NaN         NaN   \n1                              NaN       NaN        NaN         NaN   \n2                              NaN       NaN        NaN         NaN   \n3                              NaN       NaN        NaN         NaN   \n4                              NaN       NaN        NaN         NaN   \n\n   group.Category.Id group.Category.Name  message.Id message.Name  \\\n0                NaN                 NaN   902435427          NaN   \n1                NaN                 NaN   902435087          NaN   \n2                NaN                 NaN   902432292          NaN   \n3                NaN                 NaN   902431167          NaN   \n4                NaN                 NaN   902425348          NaN   \n\n   message.Category.Id  message.Category.Name message.Subject.Unresolved  \\\n0                  NaN                    NaN                        NaN   \n1                  NaN                    NaN                        NaN   \n2                  NaN                    NaN                        NaN   \n3                  NaN                    NaN                        NaN   \n4                  NaN                    NaN                        NaN   \n\n   message.ExternalId message.Type  message.variation.Id  selection.Id  \\\n0                 NaN          NaN                   NaN           NaN   \n1                 NaN          NaN                   NaN   903153389.0   \n2                 NaN          NaN                   NaN           NaN   \n3                 NaN          NaN                   NaN           NaN   \n4                 NaN          NaN                   NaN           NaN   \n\n                     selection.Name      record.Timestamp record.Type  \\\n0                               NaN  2015-07-09T08:30:26Z        Skip   \n1  150706_IT_resend_Sale_SS15_Start  2015-07-06T11:48:44Z        Skip   \n2                               NaN  2015-07-05T08:30:18Z        Skip   \n3                               NaN  2015-07-03T08:30:21Z        Skip   \n4                               NaN  2015-06-26T11:30:21Z        Skip   \n\n  record.sentToMTA.Timestamp  record.ExternalTransactionId sendout.Type  \\\n0                        NaN                           NaN          NaN   \n1                        NaN                           NaN          NaN   \n2                        NaN                           NaN          NaN   \n3                        NaN                           NaN          NaN   \n4                        NaN                           NaN          NaN   \n\n  sendout.AddresseeRole sendout.RecipientType user.DateOfBirth user.FirstName  \\\n0                   NaN                   NaN              NaN     alessandro   \n1                   NaN                   NaN              NaN     alessandro   \n2                   NaN                   NaN              NaN     alessandro   \n3                   NaN                   NaN              NaN     alessandro   \n4                   NaN                   NaN              NaN     alessandro   \n\n  user.ISOCountryCode user.ISOLanguageCode user.LastName  user.Nickname  \\\n0                  IT                   it           NaN            NaN   \n1                  IT                   it           NaN            NaN   \n2                  IT                   it           NaN            NaN   \n3                  IT                   it           NaN            NaN   \n4                  IT                   it           NaN            NaN   \n\n   user.PartnerId user.Source  user.TimeZone  user.Title user.ZipCode  \\\n0             NaN           i            NaN         NaN          NaN   \n1             NaN           i            NaN         NaN          NaN   \n2             NaN           i            NaN         NaN          NaN   \n3             NaN           i            NaN         NaN          NaN   \n4             NaN           i            NaN         NaN          NaN   \n\n  user.CustomAttribute['BeSCity']  user.CustomAttribute['BeSHome']  \\\n0                             NaN                              NaN   \n1                             NaN                              NaN   \n2                             NaN                              NaN   \n3                             NaN                              NaN   \n4                             NaN                              NaN   \n\n  user.CustomAttribute['BeSHome2']  user.CustomAttribute['BeSHome3']  \\\n0                              NaN                               NaN   \n1                              NaN                               NaN   \n2                              NaN                               NaN   \n3                              NaN                               NaN   \n4                              NaN                               NaN   \n\n  user.CustomAttribute['BeSStreet']  user.CustomAttribute['BesZip']  \\\n0                               NaN                             NaN   \n1                               NaN                             NaN   \n2                               NaN                             NaN   \n3                               NaN                             NaN   \n4                               NaN                             NaN   \n\n   user.CustomAttribute['BIC'] user.CustomAttribute['City']  \\\n0                          NaN                          NaN   \n1                          NaN                          NaN   \n2                          NaN                          NaN   \n3                          NaN                          NaN   \n4                          NaN                          NaN   \n\n  user.CustomAttribute['Coupon']  user.CustomAttribute['Coupon02']  \\\n0                            NaN                               NaN   \n1                            NaN                               NaN   \n2                            NaN                               NaN   \n3                            NaN                               NaN   \n4                            NaN                               NaN   \n\n   user.CustomAttribute['IBAN']  \\\n0                           NaN   \n1                           NaN   \n2                           NaN   \n3                           NaN   \n4                           NaN   \n\n  user.CustomAttribute['Last_Open_Any_Newsletter_Date']  \\\n0                                                NaN      \n1                                                NaN      \n2                                                NaN      \n3                                                NaN      \n4                                                NaN      \n\n  user.CustomAttribute['PartnerID']  user.CustomAttribute['ProductID']  \\\n0                        L000926771                                NaN   \n1                        L000926771                                NaN   \n2                        L000926771                                NaN   \n3                        L000926771                                NaN   \n4                        L000926771                                NaN   \n\n   user.CustomAttribute['SalesOrganization']  \\\n0                                        NaN   \n1                                        NaN   \n2                                        NaN   \n3                                        NaN   \n4                                        NaN   \n\n   user.CustomAttribute['SCSMembernumber']  \\\n0                                      NaN   \n1                                      NaN   \n2                                      NaN   \n3                                      NaN   \n4                                      NaN   \n\n   user.CustomAttribute['SCS_Boutique']  \\\n0                                   NaN   \n1                                   NaN   \n2                                   NaN   \n3                                   NaN   \n4                                   NaN   \n\n  user.CustomAttribute['SCS_Boutique_City']  \\\n0                                       NaN   \n1                                       NaN   \n2                                       NaN   \n3                                       NaN   \n4                                       NaN   \n\n  user.CustomAttribute['SCS_Boutique_Name1']  \\\n0                                        NaN   \n1                                        NaN   \n2                                        NaN   \n3                                        NaN   \n4                                        NaN   \n\n   user.CustomAttribute['SCS_Boutique_Name2']  \\\n0                                         NaN   \n1                                         NaN   \n2                                         NaN   \n3                                         NaN   \n4                                         NaN   \n\n  user.CustomAttribute['SCS_Boutique_Street']  \\\n0                                         NaN   \n1                                         NaN   \n2                                         NaN   \n3                                         NaN   \n4                                         NaN   \n\n  user.CustomAttribute['SCS_Due_Date'] user.CustomAttribute['SCS_Entry_Date']  \\\n0                                  NaN                                    NaN   \n1                                  NaN                                    NaN   \n2                                  NaN                                    NaN   \n3                                  NaN                                    NaN   \n4                                  NaN                                    NaN   \n\n  user.CustomAttribute['SCS_Expiry_Dat']  \\\n0                                    NaN   \n1                                    NaN   \n2                                    NaN   \n3                                    NaN   \n4                                    NaN   \n\n  user.CustomAttribute['SCS_Magazine_Language_ISO']  \\\n0                                               NaN   \n1                                               NaN   \n2                                               NaN   \n3                                               NaN   \n4                                               NaN   \n\n   user.CustomAttribute['SSFCardNumber'] user.CustomAttribute['Street']  \\\n0                                    NaN                            NaN   \n1                                    NaN                            NaN   \n2                                    NaN                            NaN   \n3                                    NaN                            NaN   \n4                                    NaN                            NaN   \n\n   user.CustomAttribute['Street2']  user.CustomAttribute['Street3']  \\\n0                              NaN                              NaN   \n1                              NaN                              NaN   \n2                              NaN                              NaN   \n3                              NaN                              NaN   \n4                              NaN                              NaN   \n\n   user.CustomAttribute['Telephone']  user.CustomAttribute['TitleKey']  \n0                                NaN                               NaN  \n1                                NaN                               NaN  \n2                                NaN                               NaN  \n3                                NaN                               NaN  \n4                                NaN                               NaN  "
     },
     "execution_count": 4,
     "metadata": {},
     "output_type": "execute_result"
    }
   ],
   "source": [
    "chunk.head()"
   ]
  },
  {
   "cell_type": "markdown",
   "execution_count": null,
   "metadata": {},
   "outputs": [],
   "source": [
    "## Timestamps\n",
    "\n",
    "Timestamps mark the events\n",
    "- sentToMTA\n",
    "- skipped\n",
    "- bounced\n",
    "- feedback\n",
    "- render\n",
    "- clicked\n",
    "- forwarded\n",
    "- unsubscribed\n",
    "- conversion\n",
    "\n",
    "We want to check if these events are disjoint"
   ]
  },
  {
   "cell_type": "code",
   "execution_count": 30,
   "metadata": {},
   "outputs": [
    {
     "data": {
      "text/html": "<div>\n<style scoped>\n    .dataframe tbody tr th:only-of-type {\n        vertical-align: middle;\n    }\n\n    .dataframe tbody tr th {\n        vertical-align: top;\n    }\n\n    .dataframe thead th {\n        text-align: right;\n    }\n</style>\n<table border=\"1\" class=\"dataframe\">\n  <thead>\n    <tr style=\"text-align: right;\">\n      <th></th>\n      <th>event</th>\n      <th>count</th>\n    </tr>\n  </thead>\n  <tbody>\n    <tr>\n      <th>0</th>\n      <td>sentToMTA.Timestamp</td>\n      <td>8042</td>\n    </tr>\n    <tr>\n      <th>1</th>\n      <td>skip.Timestamp</td>\n      <td>214</td>\n    </tr>\n    <tr>\n      <th>2</th>\n      <td>bounce.Timestamp</td>\n      <td>2</td>\n    </tr>\n    <tr>\n      <th>3</th>\n      <td>feedback.Timestamp</td>\n      <td>0</td>\n    </tr>\n    <tr>\n      <th>4</th>\n      <td>render.Timestamp</td>\n      <td>1385</td>\n    </tr>\n    <tr>\n      <th>5</th>\n      <td>click.Timestamp</td>\n      <td>349</td>\n    </tr>\n    <tr>\n      <th>6</th>\n      <td>unsubscribe.Timestamp</td>\n      <td>8</td>\n    </tr>\n    <tr>\n      <th>7</th>\n      <td>forward.Timestamp</td>\n      <td>0</td>\n    </tr>\n    <tr>\n      <th>8</th>\n      <td>conversion.cp.Timestamp</td>\n      <td>0</td>\n    </tr>\n    <tr>\n      <th>9</th>\n      <td>record.Timestamp</td>\n      <td>10000</td>\n    </tr>\n    <tr>\n      <th>10</th>\n      <td>record.sentToMTA.Timestamp</td>\n      <td>10000</td>\n    </tr>\n  </tbody>\n</table>\n</div>",
      "text/plain": "                         event  count\n0   sentToMTA.Timestamp         8042 \n1   skip.Timestamp              214  \n2   bounce.Timestamp            2    \n3   feedback.Timestamp          0    \n4   render.Timestamp            1385 \n5   click.Timestamp             349  \n6   unsubscribe.Timestamp       8    \n7   forward.Timestamp           0    \n8   conversion.cp.Timestamp     0    \n9   record.Timestamp            10000\n10  record.sentToMTA.Timestamp  10000"
     },
     "metadata": {},
     "output_type": "display_data"
    },
    {
     "name": "stdout",
     "output_type": "stream",
     "text": "\nsum = 30000\n"
    }
   ],
   "source": [
    "sum = 0\n",
    "timestamps = []\n",
    "for col_name in chunk.columns:\n",
    "    if 'Timestamp' in col_name:\n",
    "        timestamps.append([col_name, chunk[chunk[col_name].notna()].shape[0]])\n",
    "\n",
    "pd_timestamps = pd.DataFrame(timestamps, columns=['event', 'count'])\n",
    "display(pd_timestamps)\n",
    "print('\\nsum = ' + str(pd_timestamps['count'].sum()), )"
   ]
  },
  {
   "cell_type": "markdown",
   "execution_count": null,
   "metadata": {},
   "outputs": [],
   "source": [
    "Findings:\n",
    "- every record has `record.Timestamp` and `record.sentToMTATimestamp` set\n",
    "- exactly one of the remaining Timestamps is set in each record"
   ]
  },
  {
   "cell_type": "markdown",
   "execution_count": null,
   "metadata": {},
   "outputs": [],
   "source": [
    "## Small Dataset\n",
    "\n",
    "- drop all rows where column `click.Timestamp` is N/A\n",
    "- concatenate the remaining rows to a single dataframe"
   ]
  },
  {
   "cell_type": "code",
   "execution_count": 7,
   "metadata": {},
   "outputs": [
    {
     "data": {
      "text/plain": "Index(['sentToMTA.Timestamp', 'skip.Timestamp', 'bounce.Timestamp',\n       'feedback.Timestamp', 'render.Timestamp', 'click.Timestamp',\n       'unsubscribe.Timestamp', 'forward.Timestamp', 'conversion.cp.Timestamp',\n       'record.Timestamp', 'record.sentToMTA.Timestamp', 'user.TimeZone'],\n      dtype='object')"
     },
     "execution_count": 7,
     "metadata": {},
     "output_type": "execute_result"
    }
   ],
   "source": [
    "colNames"
   ]
  },
  {
   "cell_type": "code",
   "execution_count": 21,
   "metadata": {},
   "outputs": [
    {
     "data": {
      "text/html": "<div>\n<style scoped>\n    .dataframe tbody tr th:only-of-type {\n        vertical-align: middle;\n    }\n\n    .dataframe tbody tr th {\n        vertical-align: top;\n    }\n\n    .dataframe thead th {\n        text-align: right;\n    }\n</style>\n<table border=\"1\" class=\"dataframe\">\n  <thead>\n    <tr style=\"text-align: right;\">\n      <th></th>\n      <th>user.Id</th>\n      <th>user.MobileNumber</th>\n      <th>user.FaxNumber</th>\n      <th>user.Identifier</th>\n      <th>sentToMTA.Timestamp</th>\n      <th>sentToMTA.ExternalTransactionId</th>\n      <th>sentToMTA.SendoutChannel</th>\n      <th>skip.Timestamp</th>\n      <th>skip.Category</th>\n      <th>skip.ExternalTransactionId</th>\n      <th>bounce.Timestamp</th>\n      <th>bounce.Category</th>\n      <th>feedback.Timestamp</th>\n      <th>feedback.Category</th>\n      <th>render.Timestamp</th>\n      <th>render.GeoLocation.ISOCountryCode</th>\n      <th>render.GeoLocation.RegionCode</th>\n      <th>render.GeoLocation.City</th>\n      <th>render.GeoLocation.Latitude</th>\n      <th>render.GeoLocation.Longitude</th>\n      <th>render.UserAgent.Platform</th>\n      <th>render.UserAgent.OperatingSystemName</th>\n      <th>render.UserAgent.OperatingSystemVersion</th>\n      <th>render.UserAgent.ClientName</th>\n      <th>render.UserAgent.ClientVersion</th>\n      <th>render.UserAgent.RawString</th>\n      <th>click.Timestamp</th>\n      <th>click.Link.Id</th>\n      <th>click.Link.Category.Id</th>\n      <th>click.Link.Category.Name</th>\n      <th>click.Link.Url</th>\n      <th>click.Link.SystemLinkType</th>\n      <th>click.Link.Type</th>\n      <th>click.GeoLocation.ISOCountryCode</th>\n      <th>click.GeoLocation.RegionCode</th>\n      <th>click.GeoLocation.City</th>\n      <th>click.GeoLocation.Latitude</th>\n      <th>click.GeoLocation.Longitude</th>\n      <th>click.UserAgent.Platform</th>\n      <th>click.UserAgent.OperatingSystem</th>\n      <th>click.UserAgent.OperatingSystemVersion</th>\n      <th>click.UserAgent.ClientName</th>\n      <th>click.UserAgent.ClientVersion</th>\n      <th>click.UserAgent.RawString</th>\n      <th>unsubscribe.Timestamp</th>\n      <th>forward.Timestamp</th>\n      <th>conversion.cp.Timestamp</th>\n      <th>conversion.cp.Id</th>\n      <th>conversion.cp.Name</th>\n      <th>conversion.cp.OrderId</th>\n      <th>conversion.cp.ItemCount</th>\n      <th>conversion.cp.Amount</th>\n      <th>conversion.cp.RequestParameters</th>\n      <th>group.Id</th>\n      <th>group.Name</th>\n      <th>group.Email</th>\n      <th>group.Category.Id</th>\n      <th>group.Category.Name</th>\n      <th>message.Id</th>\n      <th>message.Name</th>\n      <th>message.Category.Id</th>\n      <th>message.Category.Name</th>\n      <th>message.Subject.Unresolved</th>\n      <th>message.ExternalId</th>\n      <th>message.Type</th>\n      <th>message.variation.Id</th>\n      <th>selection.Id</th>\n      <th>selection.Name</th>\n      <th>record.Timestamp</th>\n      <th>record.Type</th>\n      <th>record.sentToMTA.Timestamp</th>\n      <th>record.ExternalTransactionId</th>\n      <th>sendout.Type</th>\n      <th>sendout.AddresseeRole</th>\n      <th>sendout.RecipientType</th>\n      <th>user.DateOfBirth</th>\n      <th>user.FirstName</th>\n      <th>user.ISOCountryCode</th>\n      <th>user.ISOLanguageCode</th>\n      <th>user.LastName</th>\n      <th>user.Nickname</th>\n      <th>user.PartnerId</th>\n      <th>user.Source</th>\n      <th>user.TimeZone</th>\n      <th>user.Title</th>\n      <th>user.ZipCode</th>\n      <th>user.CustomAttribute['BeSCity']</th>\n      <th>user.CustomAttribute['BeSHome']</th>\n      <th>user.CustomAttribute['BeSHome2']</th>\n      <th>user.CustomAttribute['BeSHome3']</th>\n      <th>user.CustomAttribute['BeSStreet']</th>\n      <th>user.CustomAttribute['BesZip']</th>\n      <th>user.CustomAttribute['BIC']</th>\n      <th>user.CustomAttribute['City']</th>\n      <th>user.CustomAttribute['Coupon']</th>\n      <th>user.CustomAttribute['Coupon02']</th>\n      <th>user.CustomAttribute['IBAN']</th>\n      <th>user.CustomAttribute['Last_Open_Any_Newsletter_Date']</th>\n      <th>user.CustomAttribute['PartnerID']</th>\n      <th>user.CustomAttribute['ProductID']</th>\n      <th>user.CustomAttribute['SalesOrganization']</th>\n      <th>user.CustomAttribute['SCSMembernumber']</th>\n      <th>user.CustomAttribute['SCS_Boutique']</th>\n      <th>user.CustomAttribute['SCS_Boutique_City']</th>\n      <th>user.CustomAttribute['SCS_Boutique_Name1']</th>\n      <th>user.CustomAttribute['SCS_Boutique_Name2']</th>\n      <th>user.CustomAttribute['SCS_Boutique_Street']</th>\n      <th>user.CustomAttribute['SCS_Due_Date']</th>\n      <th>user.CustomAttribute['SCS_Entry_Date']</th>\n      <th>user.CustomAttribute['SCS_Expiry_Dat']</th>\n      <th>user.CustomAttribute['SCS_Magazine_Language_ISO']</th>\n      <th>user.CustomAttribute['SSFCardNumber']</th>\n      <th>user.CustomAttribute['Street']</th>\n      <th>user.CustomAttribute['Street2']</th>\n      <th>user.CustomAttribute['Street3']</th>\n      <th>user.CustomAttribute['Telephone']</th>\n      <th>user.CustomAttribute['TitleKey']</th>\n    </tr>\n  </thead>\n  <tbody>\n  </tbody>\n</table>\n</div>",
      "text/plain": "Empty DataFrame\nColumns: [user.Id, user.MobileNumber, user.FaxNumber, user.Identifier, sentToMTA.Timestamp, sentToMTA.ExternalTransactionId, sentToMTA.SendoutChannel, skip.Timestamp, skip.Category, skip.ExternalTransactionId, bounce.Timestamp, bounce.Category, feedback.Timestamp, feedback.Category, render.Timestamp, render.GeoLocation.ISOCountryCode, render.GeoLocation.RegionCode, render.GeoLocation.City, render.GeoLocation.Latitude, render.GeoLocation.Longitude, render.UserAgent.Platform, render.UserAgent.OperatingSystemName, render.UserAgent.OperatingSystemVersion, render.UserAgent.ClientName, render.UserAgent.ClientVersion, render.UserAgent.RawString, click.Timestamp, click.Link.Id, click.Link.Category.Id, click.Link.Category.Name, click.Link.Url, click.Link.SystemLinkType, click.Link.Type, click.GeoLocation.ISOCountryCode, click.GeoLocation.RegionCode, click.GeoLocation.City, click.GeoLocation.Latitude, click.GeoLocation.Longitude, click.UserAgent.Platform, click.UserAgent.OperatingSystem, click.UserAgent.OperatingSystemVersion, click.UserAgent.ClientName, click.UserAgent.ClientVersion, click.UserAgent.RawString, unsubscribe.Timestamp, forward.Timestamp, conversion.cp.Timestamp, conversion.cp.Id, conversion.cp.Name, conversion.cp.OrderId, conversion.cp.ItemCount, conversion.cp.Amount, conversion.cp.RequestParameters, group.Id, group.Name, group.Email, group.Category.Id, group.Category.Name, message.Id, message.Name, message.Category.Id, message.Category.Name, message.Subject.Unresolved, message.ExternalId, message.Type, message.variation.Id, selection.Id, selection.Name, record.Timestamp, record.Type, record.sentToMTA.Timestamp, record.ExternalTransactionId, sendout.Type, sendout.AddresseeRole, sendout.RecipientType, user.DateOfBirth, user.FirstName, user.ISOCountryCode, user.ISOLanguageCode, user.LastName, user.Nickname, user.PartnerId, user.Source, user.TimeZone, user.Title, user.ZipCode, user.CustomAttribute['BeSCity'], user.CustomAttribute['BeSHome'], user.CustomAttribute['BeSHome2'], user.CustomAttribute['BeSHome3'], user.CustomAttribute['BeSStreet'], user.CustomAttribute['BesZip'], user.CustomAttribute['BIC'], user.CustomAttribute['City'], user.CustomAttribute['Coupon'], user.CustomAttribute['Coupon02'], user.CustomAttribute['IBAN'], user.CustomAttribute['Last_Open_Any_Newsletter_Date'], user.CustomAttribute['PartnerID'], user.CustomAttribute['ProductID'], ...]\nIndex: []"
     },
     "execution_count": 21,
     "metadata": {},
     "output_type": "execute_result"
    }
   ],
   "source": [
    "df.dropna(subset=['bounce.Timestamp'], how='any', axis=0)"
   ]
  },
  {
   "cell_type": "code",
   "execution_count": 0,
   "metadata": {},
   "outputs": [],
   "source": [
    "df['Year'] = df['record.Timestamp'].str.slice(0,4)\n",
    "df.Year.unique()"
   ]
  },
  {
   "cell_type": "code",
   "execution_count": 0,
   "metadata": {},
   "outputs": [],
   "source": [
    "reader = pd.read_csv(\"sample_data.csv\", sep=';', chunksize=10000)\n",
    "\n",
    "df_clicked = pd.DataFrame()\n",
    "for chunk in reader:\n",
    "    df = chunk.dropna(subset=['click.Timestamp'])\n",
    "\n",
    "    df_clicked = pd.concat([df_clicked, df])\n",
    "\n",
    "df_clicked.shape"
   ]
  },
  {
   "cell_type": "markdown",
   "execution_count": null,
   "metadata": {},
   "outputs": [],
   "source": [
    "## Large Dataset\n",
    "\n",
    "do the same for a large dataset"
   ]
  },
  {
   "cell_type": "code",
   "execution_count": 0,
   "metadata": {},
   "outputs": [],
   "source": [
    "reader = pd.read_csv(\"sample_data_large.csv\", sep=';', chunksize=10000)\n",
    "\n",
    "df_clicked = pd.DataFrame()\n",
    "for chunk in reader:\n",
    "    df = chunk.dropna(subset=['click.Timestamp'])\n",
    "    df_clicked = pd.concat([df_clicked, df])\n",
    "\n",
    "df_clicked.shape"
   ]
  },
  {
   "cell_type": "markdown",
   "execution_count": null,
   "metadata": {},
   "outputs": [],
   "source": [
    "write the result to a file"
   ]
  },
  {
   "cell_type": "code",
   "execution_count": 0,
   "metadata": {},
   "outputs": [],
   "source": [
    "df_clicked = df_clicked.dropna(axis=1, how='all')\n",
    "df_clicked.to_csv('df_clicked.csv',sep=';')"
   ]
  }
 ]
}