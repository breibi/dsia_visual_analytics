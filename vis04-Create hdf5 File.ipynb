{
 "cells": [
  {
   "cell_type": "markdown",
   "metadata": {},
   "source": [
    "# Part 4: Create hdf5 file for use with vaex\n",
    "\n",
    "This part takes a while, therefore it's located in a separate notebook and serves only to prepare the hdf5 file for the next step."
   ]
  },
  {
   "cell_type": "code",
   "execution_count": 2,
   "metadata": {},
   "outputs": [],
   "source": [
    "import pandas as pd\n",
    "import vaex\n",
    "import os"
   ]
  },
  {
   "cell_type": "code",
   "execution_count": 7,
   "metadata": {},
   "outputs": [],
   "source": [
    "filename = '..\\\\data\\\\2018_clicked.hdf5'"
   ]
  },
  {
   "cell_type": "code",
   "execution_count": null,
   "metadata": {},
   "outputs": [],
   "source": [
    "df = pd.read_csv('..\\\\data\\\\2018_clickd.csv')\n",
    "df = df.select_dtypes(exclude=['object'])"
   ]
  },
  {
   "cell_type": "code",
   "execution_count": null,
   "metadata": {},
   "outputs": [],
   "source": [
    "# Importing the data from pandas to vaex\n",
    "vaex_df = vaex.from_pandas(df, copy_index=False)\n",
    "        \n",
    "# Export the data with vaex to hdf5\n",
    "vaex_df.export_hdf5(path=filename, progress=False)"
   ]
  },
  {
   "cell_type": "code",
   "execution_count": 27,
   "metadata": {},
   "outputs": [
    {
     "name": "stdout",
     "output_type": "stream",
     "text": [
      "Size of csv file: 1636 MB\n",
      "Size of hdf5 file: 890 MB\n"
     ]
    }
   ],
   "source": [
    "size = os.path.getsize('..\\\\data\\\\2018_clickd.csv')\n",
    "print('Size of csv file: {:.0f} MB'.format(size/1024/1024))\n",
    "\n",
    "size = os.path.getsize(filename)\n",
    "print('Size of hdf5 file: {:.0f} MB'.format(size/1024/1024))"
   ]
  }
 ],
 "metadata": {
  "kernelspec": {
   "display_name": "Python 3",
   "language": "python",
   "name": "python3"
  },
  "language_info": {
   "codemirror_mode": {
    "name": "ipython",
    "version": 3
   },
   "file_extension": ".py",
   "mimetype": "text/x-python",
   "name": "python",
   "nbconvert_exporter": "python",
   "pygments_lexer": "ipython3",
   "version": "3.7.4"
  }
 },
 "nbformat": 4,
 "nbformat_minor": 4
}
