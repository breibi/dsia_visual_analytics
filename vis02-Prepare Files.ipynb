{
 "cells": [
  {
   "cell_type": "markdown",
   "metadata": {},
   "source": [
    "# Part 2: Prepare Files\n",
    "\n",
    "- Extract clicked records\n",
    "- group by year\n",
    "- save to separate files"
   ]
  },
  {
   "cell_type": "code",
   "execution_count": 1,
   "metadata": {},
   "outputs": [],
   "source": [
    "import os\n",
    "import gzip\n",
    "import shutil\n",
    "import pandas as pd\n",
    "from IPython.display import clear_output\n",
    "import warnings\n",
    "\n",
    "warnings.filterwarnings('ignore')\n",
    "pd.options.display.max_columns = None"
   ]
  },
  {
   "cell_type": "markdown",
   "metadata": {},
   "source": [
    "read data directory from config file"
   ]
  },
  {
   "cell_type": "code",
   "execution_count": 2,
   "metadata": {},
   "outputs": [],
   "source": [
    "with open('config') as f:\n",
    "    path = f.readline()"
   ]
  },
  {
   "cell_type": "markdown",
   "metadata": {},
   "source": [
    "### unzip a file from network path and copy to local path\n",
    "\n",
    "The 237 files are stored in a network folder. For each of the files, the following steps are done\n",
    "* unpack\n",
    "* copy to local temporay file\n",
    "* process in chunks\n",
    "    - group entries by year\n",
    "    - store the year's records in folders 2018, 2017,..."
   ]
  },
  {
   "cell_type": "markdown",
   "metadata": {},
   "source": [
    "In addition, a file \"unpacked.csv\" is created, in which the total number records is stored, and the number of occurrences of each event."
   ]
  },
  {
   "cell_type": "code",
   "execution_count": 3,
   "metadata": {},
   "outputs": [],
   "source": [
    "if os.path.isfile('.\\\\data\\\\unpacked.csv'):\n",
    "    unpacked = pd.read_csv('.\\\\data\\\\unpacked.csv')\n",
    "else:\n",
    "    unpacked = pd.DataFrame(columns=['filename', 'file nr', \n",
    "                                    'total', 'sentToMTA', 'clicked', 'rendered', \n",
    "                                    'bounced', 'skipped', 'feedback', 'unsubscribed'])\n",
    "unpacked = unpacked.set_index('filename')"
   ]
  },
  {
   "cell_type": "code",
   "execution_count": 4,
   "metadata": {},
   "outputs": [
    {
     "name": "stdout",
     "output_type": "stream",
     "text": [
      "processing file nr 0\n",
      "//dsw140/CGB-Mapp-Data/newsletterSAS-Full-Raw-Data-Export-SCO-2015-generic-28060-2019_08_13_16_39_17.100.csv.gz\n"
     ]
    }
   ],
   "source": [
    "tmp_file = '.\\\\data\\\\tmp.csv'\n",
    "\n",
    "total = len(os.listdir(path))\n",
    "for i, filename in enumerate(os.listdir(path)):\n",
    "    if 0 <= i <= 0:\n",
    "        print(\"processing file nr {}\".format(i))\n",
    "        print(path + filename)\n",
    "\n",
    "        unpacked.loc[filename] = [i,0,0,0,0,0,0,0,0]\n",
    "\n",
    "        try:\n",
    "           # unzip to tmp_file\n",
    "            with gzip.open(os.path.join(path,filename)) as f_in:\n",
    "                with open(tmp_file, 'wb') as f_out:\n",
    "                    shutil.copyfileobj(f_in, f_out)\n",
    "                    f_in.close()\n",
    "                    f_out.close()\n",
    "        except:\n",
    "            print('Error unpacking file nr ' + str(i) + ' ', filename)\n",
    "            continue\n",
    "\n",
    "        df_clicked = pd.DataFrame()\n",
    "        reader = pd.read_csv(tmp_file, sep=';', chunksize=50000)   \n",
    "        for chunk in reader:\n",
    "            unpacked.loc[filename, 'total'] += len(chunk)\n",
    "            unpacked.loc[filename, 'clicked'] += chunk['click.Timestamp'].count()\n",
    "            unpacked.loc[filename, 'rendered'] += chunk['render.Timestamp'].count()\n",
    "            unpacked.loc[filename, 'bounced'] += chunk['bounce.Timestamp'].count()\n",
    "            unpacked.loc[filename, 'skipped'] += chunk['skip.Timestamp'].count()\n",
    "            unpacked.loc[filename, 'sentToMTA'] += chunk['sentToMTA.Timestamp'].count()\n",
    "            unpacked.loc[filename, 'feedback'] += chunk['feedback.Timestamp'].count()\n",
    "            unpacked.loc[filename, 'unsubscribed'] += chunk['unsubscribe.Timestamp'].count()\n",
    "            \n",
    "\n",
    "            chunk['Year'] = chunk['record.Timestamp'].str[:4]\n",
    "            for year in chunk['Year'].unique():\n",
    "                df = chunk[chunk['Year']==year] \n",
    "                df = df.dropna(subset=['click.Timestamp'])  \n",
    "                df_clicked = pd.concat([df_clicked, df]) \n",
    "       \n",
    "        unpacked.to_csv('.\\\\data\\\\unpacked.csv')\n",
    "        df_clicked.to_csv('.\\\\data\\\\' + year + '\\\\' + filename + '_clicked.csv')\n"
   ]
  },
  {
   "cell_type": "markdown",
   "metadata": {},
   "source": [
    "## Append all clicked records from 2018 into one single csv file"
   ]
  },
  {
   "cell_type": "code",
   "execution_count": 5,
   "metadata": {},
   "outputs": [],
   "source": [
    "for i, filename in enumerate(os.listdir('.\\\\data\\\\2018')):\n",
    "    df = pd.read_csv(os.path.join('.\\\\data\\\\2018',filename))\n",
    "    if i==0:\n",
    "        df.to_csv('.\\\\data\\\\2018_clickd.csv')\n",
    "    else:\n",
    "        df.to_csv('.\\\\data\\\\2018_clickd.csv', mode='a', header=False)"
   ]
  },
  {
   "cell_type": "code",
   "execution_count": 6,
   "metadata": {},
   "outputs": [
    {
     "name": "stdout",
     "output_type": "stream",
     "text": [
      "File size in MB:\n"
     ]
    },
    {
     "data": {
      "text/plain": [
       "1635.6798753738403"
      ]
     },
     "execution_count": 6,
     "metadata": {},
     "output_type": "execute_result"
    }
   ],
   "source": [
    "print('File size in MB:')\n",
    "os.path.getsize('.\\\\data\\\\2018_clickd.csv') / 1024 / 1024"
   ]
  },
  {
   "cell_type": "markdown",
   "metadata": {},
   "source": [
    "## Display summary of processed files"
   ]
  },
  {
   "cell_type": "code",
   "execution_count": 7,
   "metadata": {},
   "outputs": [
    {
     "data": {
      "text/html": [
       "<div>\n",
       "<style scoped>\n",
       "    .dataframe tbody tr th:only-of-type {\n",
       "        vertical-align: middle;\n",
       "    }\n",
       "\n",
       "    .dataframe tbody tr th {\n",
       "        vertical-align: top;\n",
       "    }\n",
       "\n",
       "    .dataframe thead th {\n",
       "        text-align: right;\n",
       "    }\n",
       "</style>\n",
       "<table border=\"1\" class=\"dataframe\">\n",
       "  <thead>\n",
       "    <tr style=\"text-align: right;\">\n",
       "      <th></th>\n",
       "      <th>filename</th>\n",
       "      <th>file nr</th>\n",
       "      <th>total</th>\n",
       "      <th>sentToMTA</th>\n",
       "      <th>clicked</th>\n",
       "      <th>rendered</th>\n",
       "      <th>bounced</th>\n",
       "      <th>skipped</th>\n",
       "      <th>feedback</th>\n",
       "      <th>unsubscribed</th>\n",
       "    </tr>\n",
       "  </thead>\n",
       "  <tbody>\n",
       "    <tr>\n",
       "      <td>0</td>\n",
       "      <td>SAS-Full-Raw-Data-Export-SCO-2015-generic-2806...</td>\n",
       "      <td>0</td>\n",
       "      <td>1829054</td>\n",
       "      <td>1341036</td>\n",
       "      <td>39263</td>\n",
       "      <td>214844</td>\n",
       "      <td>12355</td>\n",
       "      <td>221190</td>\n",
       "      <td>237</td>\n",
       "      <td>129</td>\n",
       "    </tr>\n",
       "    <tr>\n",
       "      <td>1</td>\n",
       "      <td>SAS-Full-Raw-Data-Export-SCO-2015-generic-2806...</td>\n",
       "      <td>1</td>\n",
       "      <td>2456990</td>\n",
       "      <td>1046881</td>\n",
       "      <td>21254</td>\n",
       "      <td>154481</td>\n",
       "      <td>15336</td>\n",
       "      <td>1218648</td>\n",
       "      <td>367</td>\n",
       "      <td>23</td>\n",
       "    </tr>\n",
       "    <tr>\n",
       "      <td>2</td>\n",
       "      <td>SAS-Full-Raw-Data-Export-SCO-2015-generic-2806...</td>\n",
       "      <td>2</td>\n",
       "      <td>1817534</td>\n",
       "      <td>1353743</td>\n",
       "      <td>41845</td>\n",
       "      <td>224277</td>\n",
       "      <td>11084</td>\n",
       "      <td>186074</td>\n",
       "      <td>318</td>\n",
       "      <td>193</td>\n",
       "    </tr>\n",
       "    <tr>\n",
       "      <td>3</td>\n",
       "      <td>SAS-Full-Raw-Data-Export-SCO-2015-generic-2806...</td>\n",
       "      <td>3</td>\n",
       "      <td>1824369</td>\n",
       "      <td>1361447</td>\n",
       "      <td>44995</td>\n",
       "      <td>229312</td>\n",
       "      <td>12298</td>\n",
       "      <td>175946</td>\n",
       "      <td>260</td>\n",
       "      <td>108</td>\n",
       "    </tr>\n",
       "    <tr>\n",
       "      <td>4</td>\n",
       "      <td>SAS-Full-Raw-Data-Export-SCO-2015-generic-2806...</td>\n",
       "      <td>4</td>\n",
       "      <td>1824063</td>\n",
       "      <td>1353994</td>\n",
       "      <td>52037</td>\n",
       "      <td>232250</td>\n",
       "      <td>13012</td>\n",
       "      <td>172213</td>\n",
       "      <td>455</td>\n",
       "      <td>101</td>\n",
       "    </tr>\n",
       "  </tbody>\n",
       "</table>\n",
       "</div>"
      ],
      "text/plain": [
       "                                            filename  file nr    total  \\\n",
       "0  SAS-Full-Raw-Data-Export-SCO-2015-generic-2806...        0  1829054   \n",
       "1  SAS-Full-Raw-Data-Export-SCO-2015-generic-2806...        1  2456990   \n",
       "2  SAS-Full-Raw-Data-Export-SCO-2015-generic-2806...        2  1817534   \n",
       "3  SAS-Full-Raw-Data-Export-SCO-2015-generic-2806...        3  1824369   \n",
       "4  SAS-Full-Raw-Data-Export-SCO-2015-generic-2806...        4  1824063   \n",
       "\n",
       "   sentToMTA  clicked  rendered  bounced  skipped  feedback  unsubscribed  \n",
       "0    1341036    39263    214844    12355   221190       237           129  \n",
       "1    1046881    21254    154481    15336  1218648       367            23  \n",
       "2    1353743    41845    224277    11084   186074       318           193  \n",
       "3    1361447    44995    229312    12298   175946       260           108  \n",
       "4    1353994    52037    232250    13012   172213       455           101  "
      ]
     },
     "execution_count": 7,
     "metadata": {},
     "output_type": "execute_result"
    }
   ],
   "source": [
    "df_summary = pd.read_csv('.\\\\data\\\\unpacked.csv')\n",
    "df_summary.head()"
   ]
  },
  {
   "cell_type": "code",
   "execution_count": 8,
   "metadata": {},
   "outputs": [
    {
     "data": {
      "text/plain": [
       "<matplotlib.axes._subplots.AxesSubplot at 0x27989685288>"
      ]
     },
     "execution_count": 8,
     "metadata": {},
     "output_type": "execute_result"
    }
   ],
   "source": [
    "df3 = df_summary.sum()\n",
    "df3\n",
    "df3[3:].plot(kind='bar')"
   ]
  },
  {
   "cell_type": "markdown",
   "metadata": {},
   "source": [
    "### Display proportion of clicked and rendered emails in total emails sent"
   ]
  },
  {
   "cell_type": "code",
   "execution_count": 9,
   "metadata": {},
   "outputs": [
    {
     "data": {
      "text/html": [
       "<div>\n",
       "<style scoped>\n",
       "    .dataframe tbody tr th:only-of-type {\n",
       "        vertical-align: middle;\n",
       "    }\n",
       "\n",
       "    .dataframe tbody tr th {\n",
       "        vertical-align: top;\n",
       "    }\n",
       "\n",
       "    .dataframe thead th {\n",
       "        text-align: right;\n",
       "    }\n",
       "</style>\n",
       "<table border=\"1\" class=\"dataframe\">\n",
       "  <thead>\n",
       "    <tr style=\"text-align: right;\">\n",
       "      <th></th>\n",
       "      <th>file nr</th>\n",
       "      <th>total</th>\n",
       "      <th>sentToMTA</th>\n",
       "      <th>clicked</th>\n",
       "      <th>rendered</th>\n",
       "      <th>bounced</th>\n",
       "      <th>skipped</th>\n",
       "      <th>feedback</th>\n",
       "      <th>unsubscribed</th>\n",
       "    </tr>\n",
       "  </thead>\n",
       "  <tbody>\n",
       "    <tr>\n",
       "      <td>0</td>\n",
       "      <td>437954763</td>\n",
       "      <td>0</td>\n",
       "      <td>140125045</td>\n",
       "      <td>428344550</td>\n",
       "      <td>387272212</td>\n",
       "      <td>434721777</td>\n",
       "      <td>361583504</td>\n",
       "      <td>437905970</td>\n",
       "      <td>437941192</td>\n",
       "    </tr>\n",
       "    <tr>\n",
       "      <td>1</td>\n",
       "      <td>27495</td>\n",
       "      <td>437982258</td>\n",
       "      <td>297857213</td>\n",
       "      <td>9637708</td>\n",
       "      <td>50710046</td>\n",
       "      <td>3260481</td>\n",
       "      <td>76398754</td>\n",
       "      <td>76288</td>\n",
       "      <td>41066</td>\n",
       "    </tr>\n",
       "  </tbody>\n",
       "</table>\n",
       "</div>"
      ],
      "text/plain": [
       "     file nr      total  sentToMTA    clicked   rendered    bounced  \\\n",
       "0  437954763          0  140125045  428344550  387272212  434721777   \n",
       "1      27495  437982258  297857213    9637708   50710046    3260481   \n",
       "\n",
       "     skipped   feedback  unsubscribed  \n",
       "0  361583504  437905970     437941192  \n",
       "1   76398754      76288         41066  "
      ]
     },
     "execution_count": 9,
     "metadata": {},
     "output_type": "execute_result"
    }
   ],
   "source": [
    "\n",
    "df3 = df3.drop('filename')\n",
    "diff = df3['total'] - df3\n",
    "df3 = pd.DataFrame([diff, df3])\n",
    "df3"
   ]
  },
  {
   "cell_type": "code",
   "execution_count": 10,
   "metadata": {},
   "outputs": [
    {
     "data": {
      "image/png": "[encoded data removed]",
      "text/plain": [
       "<Figure size 720x720 with 2 Axes>"
      ]
     },
     "metadata": {},
     "output_type": "display_data"
    }
   ],
   "source": [
    "def my_autopct(pct):\n",
    "    if pct < 80:\n",
    "        return ('%.1f' % pct)+'%'\n",
    "    else:\n",
    "        return ''\n",
    "\n",
    "ax_list = df3[['clicked', 'rendered']].plot.pie(subplots=True, autopct=my_autopct, pctdistance = 0.8, legend=False, figsize=(10,10), labels=None);\n",
    "for ax in ax_list:\n",
    "    ax.set_ylabel('')\n",
    "\n",
    "ax_list[0].title.set_text('Clicked')\n",
    "ax_list[1].title.set_text('Rendered')"
   ]
  },
  {
   "cell_type": "markdown",
   "metadata": {},
   "source": [
    "### Try the same without `bounced` and `skipped` records\n",
    "\n",
    "Emails that get bounced or skipped never show up in the recipient's inbox, and thus can never be opened or clicked. We subtract the number of skipped and bounced records from the total number of records to display the share of clicked and rendered emails in all emails that arrived in the recipients inbox."
   ]
  },
  {
   "cell_type": "code",
   "execution_count": 11,
   "metadata": {},
   "outputs": [
    {
     "data": {
      "image/png": "[encoded data removed]",
      "text/plain": [
       "<Figure size 720x720 with 2 Axes>"
      ]
     },
     "metadata": {},
     "output_type": "display_data"
    }
   ],
   "source": [
    "df3 = df_summary.sum()\n",
    "df3 = df3.drop('filename')\n",
    "df3['total'] = df3['total'] - df3['bounced'] - df3['skipped']\n",
    "\n",
    "diff = df3['total'] - df3\n",
    "df3 = pd.DataFrame([diff, df3])\n",
    "\n",
    "ax_list = df3[['clicked', 'rendered']].plot.pie(subplots=True, autopct=my_autopct, pctdistance = 0.8, legend=False, figsize=(10,10), labels=None);\n",
    "for ax in ax_list:\n",
    "    ax.set_ylabel('')\n",
    "\n",
    "ax_list[0].title.set_text('Clicked')\n",
    "ax_list[1].title.set_text('Rendered')"
   ]
  }
 ],
 "metadata": {
  "file_extension": ".py",
  "kernelspec": {
   "display_name": "Python 3",
   "language": "python",
   "name": "python3"
  },
  "language_info": {
   "codemirror_mode": {
    "name": "ipython",
    "version": 3
   },
   "file_extension": ".py",
   "mimetype": "text/x-python",
   "name": "python",
   "nbconvert_exporter": "python",
   "pygments_lexer": "ipython3",
   "version": "3.7.4"
  },
  "mimetype": "text/x-python",
  "name": "python",
  "npconvert_exporter": "python",
  "pygments_lexer": "ipython3",
  "version": 3
 },
 "nbformat": 4,
 "nbformat_minor": 2
}
